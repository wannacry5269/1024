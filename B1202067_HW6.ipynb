{
  "nbformat": 4,
  "nbformat_minor": 0,
  "metadata": {
    "colab": {
      "provenance": []
    },
    "kernelspec": {
      "name": "python3",
      "display_name": "Python 3"
    },
    "language_info": {
      "name": "python"
    }
  },
  "cells": [
    {
      "cell_type": "code",
      "execution_count": null,
      "metadata": {
        "id": "ydFJusFiedrH",
        "colab": {
          "base_uri": "https://localhost:8080/"
        },
        "outputId": "1a7f9a3c-2371-4266-f265-f891848987b0"
      },
      "outputs": [
        {
          "output_type": "stream",
          "name": "stdout",
          "text": [
            "聖誕樹高度11\n",
            "            \n",
            "           *\n",
            "          ***\n",
            "         *****\n",
            "        *******\n",
            "       *********\n",
            "      ***********\n",
            "     *************\n",
            "    ***************\n",
            "   *****************\n",
            "  *******************\n",
            " *********************\n",
            "          ***\n",
            "          ***\n",
            "          ***\n",
            "          ***\n",
            "          ***\n"
          ]
        }
      ],
      "source": [
        "h=int(input(\"聖誕樹高度\"))+1\n",
        "w=2*h-1\n",
        "for a in range(h):\n",
        "    print(\" \"*(h-a)+(2*a-1)*\"*\")\n",
        "for b in range(5):\n",
        "  print((h-2)*\" \"+3*\"*\")"
      ]
    },
    {
      "cell_type": "code",
      "source": [
        "def BMI():\n",
        "  try:\n",
        "    h=int(input(\"身高(公分)\"))\n",
        "    w=int(input(\"體重(公斤)\"))\n",
        "  except ValueError:\n",
        "    print(\"輸入內容有誤\")\n",
        "    return\n",
        "\n",
        "  a=w/((h/100)**2)\n",
        "  print(\"BMI:\" , a)\n",
        "\n",
        "  if a<18.5:\n",
        "    b=\"體位:過輕\"\n",
        "  elif 18.5<=a and a<24:\n",
        "    b=\"體位:適中\"\n",
        "  elif 24<=a and a<27:\n",
        "    b=\"體位:過重\"\n",
        "  else:\n",
        "    b=\"體位:肥胖\"\n",
        "\n",
        "  print(b)\n",
        "\n",
        "BMI()"
      ],
      "metadata": {
        "colab": {
          "base_uri": "https://localhost:8080/"
        },
        "id": "6W6U5wPyq-bl",
        "outputId": "cd69721c-0b00-4fe2-e629-ac8c1ce9435f"
      },
      "execution_count": null,
      "outputs": [
        {
          "output_type": "stream",
          "name": "stdout",
          "text": [
            "身高(公分)100\n",
            "體重(公斤)1\n",
            "BMI: 1.0\n",
            "體位:過輕\n"
          ]
        }
      ]
    }
  ]
}